{
  "nbformat": 4,
  "nbformat_minor": 0,
  "metadata": {
    "colab": {
      "provenance": []
    },
    "kernelspec": {
      "name": "python3",
      "display_name": "Python 3"
    },
    "language_info": {
      "name": "python"
    }
  },
  "cells": [
    {
      "cell_type": "markdown",
      "source": [
        "Sort Array in Python"
      ],
      "metadata": {
        "id": "yepb97pHXh4f"
      }
    },
    {
      "cell_type": "code",
      "execution_count": null,
      "metadata": {
        "colab": {
          "base_uri": "https://localhost:8080/"
        },
        "id": "PG5xjoF6BTza",
        "outputId": "ab7b94fa-d38c-41df-d196-c40f3b0e37e0"
      },
      "outputs": [
        {
          "output_type": "stream",
          "name": "stdout",
          "text": [
            "3 5 6 1 2 4 "
          ]
        }
      ],
      "source": [
        "# Python 3 program to implement simple approach to sort\n",
        "# an array according to count of set bits.\n",
        " \n",
        "# a utility function that returns total set bits\n",
        "# count in an integer\n",
        "def countBits(a):\n",
        "    count = 0\n",
        "    while (a):\n",
        "        if (a & 1):\n",
        "            count+= 1\n",
        "        a = a>>1\n",
        " \n",
        "    return count\n",
        " \n",
        "# Function to simultaneously sort both arrays\n",
        "# using insertion sort\n",
        "# ( http:#quiz.geeksforgeeks.org/insertion-sort/ )\n",
        "def insertionSort(arr,aux, n):\n",
        "    for i in range(1,n,1):\n",
        "        # use 2 keys because we need to sort both\n",
        "        # arrays simultaneously\n",
        "        key1 = aux[i]\n",
        "        key2 = arr[i]\n",
        "        j = i-1\n",
        " \n",
        "        # Move elements of arr[0..i-1] and aux[0..i-1],\n",
        "        #  such that elements of aux[0..i-1] are\n",
        "        # greater than key1, to one position ahead\n",
        "        #  of their current position */\n",
        "        while (j >= 0 and aux[j] < key1):\n",
        "            aux[j+1] = aux[j]\n",
        "            arr[j+1] = arr[j]\n",
        "            j = j-1\n",
        " \n",
        "        aux[j+1] = key1\n",
        "        arr[j+1] = key2\n",
        " \n",
        "# Function to sort according to bit count using\n",
        "# an auxiliary array\n",
        "def sortBySetBitCount(arr, n):\n",
        "    # Create an array and store count of\n",
        "    # set bits in it.\n",
        "    aux = [0 for i in range(n)]\n",
        "    for i in range(0,n,1):\n",
        "        aux[i] = countBits(arr[i])\n",
        " \n",
        "    # Sort arr[] according to values in aux[]\n",
        "    insertionSort(arr, aux, n)\n",
        " \n",
        "# Utility function to print an array\n",
        "def printArr(arr, n):\n",
        "    for i in range(0,n,1):\n",
        "        print(arr[i],end = \" \")\n",
        " \n",
        "# Driver Code\n",
        "if __name__ =='__main__':\n",
        "    arr = [1, 2, 3, 4, 5, 6]\n",
        "    n = len(arr)\n",
        "    sortBySetBitCount(arr, n)\n",
        "    printArr(arr, n)\n",
        " \n",
        "# This code is contributed by\n",
        "# Surendra_Gangwar"
      ]
    },
    {
      "cell_type": "code",
      "source": [
        "import sys\n",
        "\n",
        "\n",
        "n = int(input().strip())\n",
        "unsorted = []\n",
        "unsorted_i = 0\n",
        "for unsorted_i in range(n):\n",
        "    unsorted_t = str(input().strip())\n",
        "    unsorted.append(unsorted_t)\n",
        "for v in sorted(unsorted, key = lambda v: int(v)):\n",
        "    print(v)\n"
      ],
      "metadata": {
        "colab": {
          "base_uri": "https://localhost:8080/"
        },
        "id": "D_2CnCstD5oM",
        "outputId": "67defd75-213b-4547-bbda-5385c020d1b8"
      },
      "execution_count": null,
      "outputs": [
        {
          "output_type": "stream",
          "name": "stdout",
          "text": [
            "5\n",
            "1\n",
            "2\n",
            "3\n",
            "4\n",
            "5\n",
            "1\n",
            "2\n",
            "3\n",
            "4\n",
            "5\n"
          ]
        }
      ]
    },
    {
      "cell_type": "code",
      "source": [
        "import sys\n",
        "\n",
        "\n",
        "n = int(input().strip())\n",
        "unsorted = []\n",
        "unsorted_i = 0\n",
        "for unsorted_i in range(n):\n",
        "   unsorted_t = str(input().strip())\n",
        "   unsorted.append(unsorted_t)\n",
        "\n",
        "unsorted.sort(key = lambda x : int(x))\n",
        "for u in unsorted:\n",
        "    print(u)"
      ],
      "metadata": {
        "colab": {
          "base_uri": "https://localhost:8080/"
        },
        "id": "084tbeuvGvQ-",
        "outputId": "741b65f8-6820-41f5-fa4c-5525589093c1"
      },
      "execution_count": null,
      "outputs": [
        {
          "output_type": "stream",
          "name": "stdout",
          "text": [
            "5\n",
            "1\n",
            "2\n",
            "3\n",
            "4\n",
            "5\n",
            "1\n",
            "2\n",
            "3\n",
            "4\n",
            "5\n"
          ]
        }
      ]
    },
    {
      "cell_type": "code",
      "source": [
        "n = int(input())\n",
        "arr = []\n",
        "for i in range(n):\n",
        "    arr.append(input())\n",
        "arr.sort(key=int)\n",
        "for _ in arr:\n",
        "    print(_)"
      ],
      "metadata": {
        "colab": {
          "base_uri": "https://localhost:8080/"
        },
        "id": "jI0H162XI55W",
        "outputId": "5fdf146e-57d5-434a-cca1-f190bcd9f571"
      },
      "execution_count": null,
      "outputs": [
        {
          "output_type": "stream",
          "name": "stdout",
          "text": [
            "5\n",
            "1\n",
            "2\n",
            "3\n",
            "4\n",
            "5\n",
            "1\n",
            "2\n",
            "3\n",
            "4\n",
            "5\n"
          ]
        }
      ]
    },
    {
      "cell_type": "code",
      "source": [
        "  #!/bin/python3\n",
        "\n",
        "  import sys\n",
        "  from bisect import insort\n",
        "\n",
        "  def bigSorting(arr):\n",
        "      return sorted(arr, key=int)\n",
        "\n",
        "  if __name__ == \"__main__\":\n",
        "      n = int(input().strip())\n",
        "      arr = []\n",
        "      arr_i = 0\n",
        "      for arr_i in range(n):\n",
        "          arr_t = input().strip()\n",
        "          arr.append(arr_t)\n",
        "          #insort(arr, arr_t)\n",
        "      result = bigSorting(arr)\n",
        "      print (\"\\n\".join(map(str, result)))\n",
        "      #print (\"\\n\".join(map(str, arr)))"
      ],
      "metadata": {
        "colab": {
          "base_uri": "https://localhost:8080/",
          "height": 380
        },
        "id": "US1QTqd9IIco",
        "outputId": "946b6784-5134-4d0c-d584-5a631f59e7a8"
      },
      "execution_count": null,
      "outputs": [
        {
          "output_type": "error",
          "ename": "KeyboardInterrupt",
          "evalue": "ignored",
          "traceback": [
            "\u001b[0;31m---------------------------------------------------------------------------\u001b[0m",
            "\u001b[0;31mKeyboardInterrupt\u001b[0m                         Traceback (most recent call last)",
            "\u001b[0;32m<ipython-input-27-50d34087180a>\u001b[0m in \u001b[0;36m<module>\u001b[0;34m\u001b[0m\n\u001b[1;32m      8\u001b[0m \u001b[0;34m\u001b[0m\u001b[0m\n\u001b[1;32m      9\u001b[0m \u001b[0;32mif\u001b[0m \u001b[0m__name__\u001b[0m \u001b[0;34m==\u001b[0m \u001b[0;34m\"__main__\"\u001b[0m\u001b[0;34m:\u001b[0m\u001b[0;34m\u001b[0m\u001b[0;34m\u001b[0m\u001b[0m\n\u001b[0;32m---> 10\u001b[0;31m     \u001b[0mn\u001b[0m \u001b[0;34m=\u001b[0m \u001b[0mint\u001b[0m\u001b[0;34m(\u001b[0m\u001b[0minput\u001b[0m\u001b[0;34m(\u001b[0m\u001b[0;34m)\u001b[0m\u001b[0;34m.\u001b[0m\u001b[0mstrip\u001b[0m\u001b[0;34m(\u001b[0m\u001b[0;34m)\u001b[0m\u001b[0;34m)\u001b[0m\u001b[0;34m\u001b[0m\u001b[0;34m\u001b[0m\u001b[0m\n\u001b[0m\u001b[1;32m     11\u001b[0m     \u001b[0marr\u001b[0m \u001b[0;34m=\u001b[0m \u001b[0;34m[\u001b[0m\u001b[0;34m]\u001b[0m\u001b[0;34m\u001b[0m\u001b[0;34m\u001b[0m\u001b[0m\n\u001b[1;32m     12\u001b[0m     \u001b[0marr_i\u001b[0m \u001b[0;34m=\u001b[0m \u001b[0;36m0\u001b[0m\u001b[0;34m\u001b[0m\u001b[0;34m\u001b[0m\u001b[0m\n",
            "\u001b[0;32m/usr/local/lib/python3.7/dist-packages/ipykernel/kernelbase.py\u001b[0m in \u001b[0;36mraw_input\u001b[0;34m(self, prompt)\u001b[0m\n\u001b[1;32m    861\u001b[0m             \u001b[0mself\u001b[0m\u001b[0;34m.\u001b[0m\u001b[0m_parent_ident\u001b[0m\u001b[0;34m,\u001b[0m\u001b[0;34m\u001b[0m\u001b[0;34m\u001b[0m\u001b[0m\n\u001b[1;32m    862\u001b[0m             \u001b[0mself\u001b[0m\u001b[0;34m.\u001b[0m\u001b[0m_parent_header\u001b[0m\u001b[0;34m,\u001b[0m\u001b[0;34m\u001b[0m\u001b[0;34m\u001b[0m\u001b[0m\n\u001b[0;32m--> 863\u001b[0;31m             \u001b[0mpassword\u001b[0m\u001b[0;34m=\u001b[0m\u001b[0;32mFalse\u001b[0m\u001b[0;34m,\u001b[0m\u001b[0;34m\u001b[0m\u001b[0;34m\u001b[0m\u001b[0m\n\u001b[0m\u001b[1;32m    864\u001b[0m         )\n\u001b[1;32m    865\u001b[0m \u001b[0;34m\u001b[0m\u001b[0m\n",
            "\u001b[0;32m/usr/local/lib/python3.7/dist-packages/ipykernel/kernelbase.py\u001b[0m in \u001b[0;36m_input_request\u001b[0;34m(self, prompt, ident, parent, password)\u001b[0m\n\u001b[1;32m    902\u001b[0m             \u001b[0;32mexcept\u001b[0m \u001b[0mKeyboardInterrupt\u001b[0m\u001b[0;34m:\u001b[0m\u001b[0;34m\u001b[0m\u001b[0;34m\u001b[0m\u001b[0m\n\u001b[1;32m    903\u001b[0m                 \u001b[0;31m# re-raise KeyboardInterrupt, to truncate traceback\u001b[0m\u001b[0;34m\u001b[0m\u001b[0;34m\u001b[0m\u001b[0;34m\u001b[0m\u001b[0m\n\u001b[0;32m--> 904\u001b[0;31m                 \u001b[0;32mraise\u001b[0m \u001b[0mKeyboardInterrupt\u001b[0m\u001b[0;34m(\u001b[0m\u001b[0;34m\"Interrupted by user\"\u001b[0m\u001b[0;34m)\u001b[0m \u001b[0;32mfrom\u001b[0m \u001b[0;32mNone\u001b[0m\u001b[0;34m\u001b[0m\u001b[0;34m\u001b[0m\u001b[0m\n\u001b[0m\u001b[1;32m    905\u001b[0m             \u001b[0;32mexcept\u001b[0m \u001b[0mException\u001b[0m \u001b[0;32mas\u001b[0m \u001b[0me\u001b[0m\u001b[0;34m:\u001b[0m\u001b[0;34m\u001b[0m\u001b[0;34m\u001b[0m\u001b[0m\n\u001b[1;32m    906\u001b[0m                 \u001b[0mself\u001b[0m\u001b[0;34m.\u001b[0m\u001b[0mlog\u001b[0m\u001b[0;34m.\u001b[0m\u001b[0mwarning\u001b[0m\u001b[0;34m(\u001b[0m\u001b[0;34m\"Invalid Message:\"\u001b[0m\u001b[0;34m,\u001b[0m \u001b[0mexc_info\u001b[0m\u001b[0;34m=\u001b[0m\u001b[0;32mTrue\u001b[0m\u001b[0;34m)\u001b[0m\u001b[0;34m\u001b[0m\u001b[0;34m\u001b[0m\u001b[0m\n",
            "\u001b[0;31mKeyboardInterrupt\u001b[0m: Interrupted by user"
          ]
        }
      ]
    }
  ]
}